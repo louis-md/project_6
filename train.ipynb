{
 "cells": [
  {
   "cell_type": "code",
   "execution_count": 1,
   "metadata": {},
   "outputs": [],
   "source": [
    "from sklearn.cluster import KMeans\n",
    "from sklearn.preprocessing import StandardScaler\n",
    "import pandas as pd\n",
    "import pickle\n",
    "\n",
    "df2 = pd.read_csv(\"features.csv\")\n",
    "\n",
    "def getScaler(df):\n",
    "    scaler = StandardScaler()\n",
    "    audio_scaler = scaler.fit(df[[\"danceability\", \"energy\", \"loudness\", \"speechiness\", \"acousticness\", \"instrumentalness\", \"liveness\", \"valence\", \"tempo\"]])\n",
    "    X_normalized = audio_scaler.transform(df[[\"danceability\", \"energy\", \"loudness\", \"speechiness\", \"acousticness\", \"instrumentalness\", \"liveness\", \"valence\", \"tempo\"]])\n",
    "    return X_normalized, audio_scaler\n",
    "\n",
    "X_normalized, audio_scaler = getScaler(df2)\n",
    "\n",
    "\n",
    "def getClusterIds(df):\n",
    "    # Predict clusters using KMeans\n",
    "    kmeans = KMeans(n_clusters=4000, n_init=10) # TODO: Find optimal number of clusters using an elbow graph\n",
    "    my_kmeans = kmeans.fit(df)\n",
    "    cluster_ids = my_kmeans.predict(df)\n",
    "    return cluster_ids, my_kmeans\n",
    "\n",
    "cluster_ids, my_kmeans = getClusterIds(X_normalized)\n"
   ]
  },
  {
   "cell_type": "code",
   "execution_count": 2,
   "metadata": {},
   "outputs": [],
   "source": [
    "# Export the model and scaler\n",
    "with open(\"kmeans4000.pickle\", \"wb\") as f: #saves the model in dir and file name given\n",
    "    pickle.dump(my_kmeans,f)\n",
    "with open(\"scaler.pickle\", \"wb\") as f: #saves the model in dir and file name given\n",
    "    pickle.dump(audio_scaler,f)"
   ]
  },
  {
   "cell_type": "code",
   "execution_count": 3,
   "metadata": {},
   "outputs": [],
   "source": [
    "# Export the cluster ids\n",
    "df2[\"cluster_id\"] = cluster_ids\n",
    "df2.to_csv(\"features_clustered.csv\", index=False)"
   ]
  }
 ],
 "metadata": {
  "kernelspec": {
   "display_name": "Python 3",
   "language": "python",
   "name": "python3"
  },
  "language_info": {
   "codemirror_mode": {
    "name": "ipython",
    "version": 3
   },
   "file_extension": ".py",
   "mimetype": "text/x-python",
   "name": "python",
   "nbconvert_exporter": "python",
   "pygments_lexer": "ipython3",
   "version": "3.9.6"
  },
  "orig_nbformat": 4
 },
 "nbformat": 4,
 "nbformat_minor": 2
}
