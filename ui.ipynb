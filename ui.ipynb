{
 "cells": [
  {
   "cell_type": "code",
   "execution_count": 52,
   "metadata": {},
   "outputs": [],
   "source": [
    "import spotipy\n",
    "from spotipy.oauth2 import SpotifyClientCredentials\n",
    "import os\n",
    "from dotenv import load_dotenv\n",
    "import pickle\n",
    "import pandas as pd\n",
    "\n",
    "load_dotenv(\"./.env\")\n",
    "\n",
    "client_id = os.environ.get(\"SPOTIFY_CLIENT_ID\")\n",
    "client_secret = os.environ.get(\"SPOTIFY_CLIENT_SECRET\")\n",
    "\n",
    "sp = spotipy.Spotify(auth_manager=SpotifyClientCredentials(client_id, client_secret), requests_timeout=45)"
   ]
  },
  {
   "cell_type": "code",
   "execution_count": 30,
   "metadata": {},
   "outputs": [],
   "source": []
  },
  {
   "cell_type": "code",
   "execution_count": 61,
   "metadata": {},
   "outputs": [],
   "source": [
    "def load(filename = \"filename.pickle\"): \n",
    "    try: \n",
    "        with open(filename, \"rb\") as f: \n",
    "            return pickle.load(f) \n",
    "\n",
    "    except FileNotFoundError: \n",
    "        print(\"File not found!\")\n",
    "\n",
    "kmeans = load(\"kmeans4000.pickle\")\n",
    "scaler = load(\"scaler.pickle\")\n",
    "\n",
    "def getClusterIds(_df):\n",
    "    # Predict clusters using KMeans\n",
    "    cluster_ids = kmeans.predict(_df)\n",
    "    return cluster_ids"
   ]
  },
  {
   "cell_type": "code",
   "execution_count": 72,
   "metadata": {},
   "outputs": [],
   "source": [
    "# Final UI:\n",
    "# - Input: song name\n",
    "inpt = input(\"Enter song name: \")\n",
    "# - Search for song in Spotify\n",
    "results = sp.search(q=inpt, limit=1)\n",
    "# - Get song id\n",
    "song_id = results[\"tracks\"][\"items\"][0][\"id\"]\n",
    "# - Get song features\n",
    "inpt_features = sp.audio_features(song_id)\n",
    "df = pd.DataFrame(inpt_features)[[\"danceability\", \"energy\", \"loudness\", \"speechiness\", \"acousticness\", \"instrumentalness\", \"liveness\", \"valence\", \"tempo\"]]\n",
    "X_normalized = scaler.transform(df)\n",
    "\n",
    "\n",
    "# - Get cluster id\n",
    "inpt_cluster = getClusterIds(X_normalized)\n"
   ]
  },
  {
   "cell_type": "code",
   "execution_count": 73,
   "metadata": {},
   "outputs": [
    {
     "name": "stdout",
     "output_type": "stream",
     "text": [
      "[3371]\n"
     ]
    },
    {
     "data": {
      "text/plain": [
       "['Nesesari - Kizz Daniel',\n",
       " 'Brega do Amor - Aline Silva',\n",
       " 'Bate Lata - Banda Beijo',\n",
       " \"3'aza - Omar Alabdallat\",\n",
       " 'Lenguas - Bobby Cruz',\n",
       " 'Ganges gawa de, koi wo shita. - Nanahira',\n",
       " 'This Old Man - The Wiggles',\n",
       " 'Paisa (From \"De Dana Dan\") - Manak-E',\n",
       " 'Yur Luv - Tekno',\n",
       " 'Daddy Yo - Wizkid']"
      ]
     },
     "execution_count": 73,
     "metadata": {},
     "output_type": "execute_result"
    }
   ],
   "source": [
    "# - Get songs in cluster\n",
    "print(inpt_cluster)\n",
    "df2 = pd.read_csv(\"features_clustered.csv\")\n",
    "songs_in_cluster = df2[df2[\"cluster_id\"] == inpt_cluster[0]][\"id\"].tolist()\n",
    "song_names = sp.tracks(songs_in_cluster[0:10])[\"tracks\"]\n",
    "song_names_legible = [i[\"name\"] + ' - ' + i[\"artists\"][0][\"name\"] for i in song_names]\n",
    "song_names_legible"
   ]
  },
  {
   "cell_type": "code",
   "execution_count": 74,
   "metadata": {},
   "outputs": [
    {
     "data": {
      "text/html": [
       "\n",
       "        <iframe\n",
       "            width=\"300\"\n",
       "            height=\"380\"\n",
       "            src=\"https://open.spotify.com/embed/track/6ldwfK0yWgTAlmIfuQkTYN\"\n",
       "            frameborder=\"0\"\n",
       "            allowfullscreen\n",
       "            \n",
       "        ></iframe>\n",
       "        "
      ],
      "text/plain": [
       "<IPython.lib.display.IFrame at 0x2bf1fca30>"
      ]
     },
     "execution_count": 74,
     "metadata": {},
     "output_type": "execute_result"
    }
   ],
   "source": [
    "# - Display input song\n",
    "from IPython.display import IFrame\n",
    "IFrame(src='https://open.spotify.com/embed/track/' + song_id, width=300, height=380)"
   ]
  },
  {
   "cell_type": "code",
   "execution_count": 75,
   "metadata": {},
   "outputs": [
    {
     "data": {
      "text/html": [
       "\n",
       "        <iframe\n",
       "            width=\"300\"\n",
       "            height=\"380\"\n",
       "            src=\"https://open.spotify.com/embed/track/1yOt3NUFWpYbnFW6ISj59h\"\n",
       "            frameborder=\"0\"\n",
       "            allowfullscreen\n",
       "            \n",
       "        ></iframe>\n",
       "        "
      ],
      "text/plain": [
       "<IPython.lib.display.IFrame at 0x2bf1fcc70>"
      ]
     },
     "execution_count": 75,
     "metadata": {},
     "output_type": "execute_result"
    }
   ],
   "source": [
    "# - Display first song in cluster\n",
    "IFrame(src='https://open.spotify.com/embed/track/' + songs_in_cluster[0], width=300, height=380)"
   ]
  }
 ],
 "metadata": {
  "kernelspec": {
   "display_name": "Python 3",
   "language": "python",
   "name": "python3"
  },
  "language_info": {
   "codemirror_mode": {
    "name": "ipython",
    "version": 3
   },
   "file_extension": ".py",
   "mimetype": "text/x-python",
   "name": "python",
   "nbconvert_exporter": "python",
   "pygments_lexer": "ipython3",
   "version": "3.9.6"
  },
  "orig_nbformat": 4
 },
 "nbformat": 4,
 "nbformat_minor": 2
}
