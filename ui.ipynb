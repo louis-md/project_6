{
 "cells": [
  {
   "cell_type": "code",
   "execution_count": null,
   "metadata": {},
   "outputs": [],
   "source": [
    "import pandas as pd\n",
    "\n",
    "df2 = pd.read_csv('features_clustered.csv')\n",
    "\n",
    "# Final UI:\n",
    "# - Input: song name\n",
    "inpt = input(\"Enter song name: \")\n",
    "# - Search for song in Spotify\n",
    "results = sp.search(q=inpt, limit=1)\n",
    "# - Get song id\n",
    "song_id = results[\"tracks\"][\"items\"][0][\"id\"]\n",
    "# - Get song features\n",
    "inpt_features = sp.audio_features(song_id)\n",
    "inpt_features\n",
    "\n",
    "# # - Get cluster id\n",
    "df2.loc[0] = inpt_features[0]\n",
    "inpt_cluster = getClusterIds(df2)[0]\n",
    "# - Get songs in cluster\n",
    "songs_in_cluster = df2[df2[\"cluster\"] == inpt_cluster][\"id\"].values.tolist()\n",
    "song_names = sp.tracks(songs_in_cluster[0:10])[\"tracks\"]"
   ]
  },
  {
   "cell_type": "code",
   "execution_count": null,
   "metadata": {},
   "outputs": [],
   "source": [
    "song_names_legible = [i[\"name\"] + ' - ' + i[\"artists\"][0][\"name\"] for i in song_names]\n",
    "song_names_legible"
   ]
  },
  {
   "cell_type": "code",
   "execution_count": null,
   "metadata": {},
   "outputs": [],
   "source": [
    "# - Display input song\n",
    "from IPython.display import IFrame\n",
    "IFrame(src='https://open.spotify.com/embed/track/' + song_id, width=300, height=380)"
   ]
  },
  {
   "cell_type": "code",
   "execution_count": null,
   "metadata": {},
   "outputs": [],
   "source": [
    "# - Display first song in cluster\n",
    "IFrame(src='https://open.spotify.com/embed/track/' + songs_in_cluster[0], width=300, height=380)"
   ]
  }
 ],
 "metadata": {
  "language_info": {
   "name": "python"
  },
  "orig_nbformat": 4
 },
 "nbformat": 4,
 "nbformat_minor": 2
}
