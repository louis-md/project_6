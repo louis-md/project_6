{
 "cells": [
  {
   "cell_type": "code",
   "execution_count": 11,
   "metadata": {},
   "outputs": [],
   "source": [
    "import spotipy\n",
    "from spotipy.oauth2 import SpotifyClientCredentials\n",
    "import os\n",
    "from dotenv import load_dotenv\n",
    "from sklearn.cluster import KMeans\n",
    "from sklearn.decomposition import PCA\n",
    "from sklearn.preprocessing import StandardScaler\n",
    "from matplotlib import pyplot as plt\n",
    "\n",
    "load_dotenv(\"./.env\")\n",
    "\n",
    "client_id = os.environ.get(\"SPOTIFY_CLIENT_ID\")\n",
    "client_secret = os.environ.get(\"SPOTIFY_CLIENT_SECRET\")\n",
    "\n",
    "sp = spotipy.Spotify(auth_manager=SpotifyClientCredentials(client_id, client_secret), requests_timeout=45)"
   ]
  },
  {
   "cell_type": "code",
   "execution_count": 12,
   "metadata": {},
   "outputs": [],
   "source": [
    "def getClusterIds(df):\n",
    "    # Normalize the data\n",
    "    scaler = StandardScaler()\n",
    "    X_normalized = scaler.fit_transform(df[[\"danceability\", \"energy\", \"loudness\", \"speechiness\", \"acousticness\", \"instrumentalness\", \"liveness\", \"valence\", \"tempo\"]])\n",
    "    # df_normalized = pd.DataFrame(X_normalized, columns=[\"danceability\", \"energy\",  \"loudness\", \"speechiness\", \"acousticness\", \"instrumentalness\", \"liveness\", \"valence\", \"tempo\"])\n",
    "\n",
    "    # Perform PCA\n",
    "    pca = PCA(n_components=9)\n",
    "    pca.fit(X_normalized)\n",
    "    X_pca = pca.transform(X_normalized)\n",
    "\n",
    "    # Predict clusters using KMeans\n",
    "    kmeans = KMeans(n_clusters=50, n_init=10) # TODO: Find optimal number of clusters using an elbow graph\n",
    "    kmeans.fit(X_pca)\n",
    "    cluster_ids = kmeans.predict(X_pca)\n",
    "    return cluster_ids"
   ]
  },
  {
   "cell_type": "code",
   "execution_count": 13,
   "metadata": {},
   "outputs": [
    {
     "data": {
      "text/plain": [
       "['Andalusia - Hammock',\n",
       " 'Tuistos Herz - Burzum',\n",
       " 'Something Heavens - H.U.V.A. Network',\n",
       " 'Slava Satan - Dark Funeral',\n",
       " 'Glory Box - Portishead',\n",
       " 'Dernhelm in Battle - Howard Shore',\n",
       " 'Terminator - Main Title - Best Movie Soundtracks',\n",
       " 'Galaxia - Ferry Corsten',\n",
       " 'Tower Seven - Thievery Corporation',\n",
       " 'Swords Crossed - Klaus Badelt']"
      ]
     },
     "execution_count": 13,
     "metadata": {},
     "output_type": "execute_result"
    }
   ],
   "source": [
    "import pandas as pd\n",
    "\n",
    "df2 = pd.read_csv('features_clustered.csv')\n",
    "\n",
    "# Final UI:\n",
    "# - Input: song name\n",
    "inpt = input(\"Enter song name: \")\n",
    "# - Search for song in Spotify\n",
    "results = sp.search(q=inpt, limit=1)\n",
    "# - Get song id\n",
    "song_id = results[\"tracks\"][\"items\"][0][\"id\"]\n",
    "# - Get song features\n",
    "inpt_features = sp.audio_features(song_id)\n",
    "inpt_features\n",
    "\n",
    "# # - Get cluster id\n",
    "df2.loc[0] = inpt_features[0]\n",
    "inpt_cluster = getClusterIds(df2)[0]\n",
    "# - Get songs in cluster\n",
    "songs_in_cluster = df2[df2[\"cluster\"] == inpt_cluster][\"id\"].values.tolist()\n",
    "song_names = sp.tracks(songs_in_cluster[0:10])[\"tracks\"]\n",
    "song_names_legible = [i[\"name\"] + ' - ' + i[\"artists\"][0][\"name\"] for i in song_names]\n",
    "song_names_legible"
   ]
  },
  {
   "cell_type": "code",
   "execution_count": 14,
   "metadata": {},
   "outputs": [
    {
     "data": {
      "text/html": [
       "\n",
       "        <iframe\n",
       "            width=\"300\"\n",
       "            height=\"380\"\n",
       "            src=\"https://open.spotify.com/embed/track/79LdvxXi5JYUjhnO7v9Fi3\"\n",
       "            frameborder=\"0\"\n",
       "            allowfullscreen\n",
       "            \n",
       "        ></iframe>\n",
       "        "
      ],
      "text/plain": [
       "<IPython.lib.display.IFrame at 0x29f942af0>"
      ]
     },
     "execution_count": 14,
     "metadata": {},
     "output_type": "execute_result"
    }
   ],
   "source": [
    "# - Display input song\n",
    "from IPython.display import IFrame\n",
    "IFrame(src='https://open.spotify.com/embed/track/' + song_id, width=300, height=380)"
   ]
  },
  {
   "cell_type": "code",
   "execution_count": 15,
   "metadata": {},
   "outputs": [
    {
     "data": {
      "text/html": [
       "\n",
       "        <iframe\n",
       "            width=\"300\"\n",
       "            height=\"380\"\n",
       "            src=\"https://open.spotify.com/embed/track/5vWZkJ3lm3O8Vt0MEm9XX3\"\n",
       "            frameborder=\"0\"\n",
       "            allowfullscreen\n",
       "            \n",
       "        ></iframe>\n",
       "        "
      ],
      "text/plain": [
       "<IPython.lib.display.IFrame at 0x29f942910>"
      ]
     },
     "execution_count": 15,
     "metadata": {},
     "output_type": "execute_result"
    }
   ],
   "source": [
    "# - Display first song in cluster\n",
    "IFrame(src='https://open.spotify.com/embed/track/' + songs_in_cluster[0], width=300, height=380)"
   ]
  }
 ],
 "metadata": {
  "kernelspec": {
   "display_name": "Python 3",
   "language": "python",
   "name": "python3"
  },
  "language_info": {
   "codemirror_mode": {
    "name": "ipython",
    "version": 3
   },
   "file_extension": ".py",
   "mimetype": "text/x-python",
   "name": "python",
   "nbconvert_exporter": "python",
   "pygments_lexer": "ipython3",
   "version": "3.9.6"
  },
  "orig_nbformat": 4
 },
 "nbformat": 4,
 "nbformat_minor": 2
}
