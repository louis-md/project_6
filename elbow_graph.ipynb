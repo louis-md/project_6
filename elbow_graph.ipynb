{
 "cells": [
  {
   "cell_type": "code",
   "execution_count": 2,
   "metadata": {},
   "outputs": [],
   "source": [
    "import spotipy\n",
    "from spotipy.oauth2 import SpotifyClientCredentials\n",
    "import os\n",
    "from dotenv import load_dotenv\n",
    "import pandas as pd\n",
    "\n",
    "load_dotenv(\"./.env\")\n",
    "\n",
    "client_id = os.environ.get(\"SPOTIFY_CLIENT_ID\")\n",
    "client_secret = os.environ.get(\"SPOTIFY_CLIENT_SECRET\")\n",
    "\n",
    "sp = spotipy.Spotify(auth_manager=SpotifyClientCredentials(client_id, client_secret), requests_timeout=45)"
   ]
  },
  {
   "cell_type": "code",
   "execution_count": null,
   "metadata": {},
   "outputs": [],
   "source": [
    "df = pd.read_csv('features_clustered.csv')\n",
    "df = df.drop(columns='cluster')"
   ]
  },
  {
   "cell_type": "code",
   "execution_count": 99,
   "metadata": {},
   "outputs": [],
   "source": [
    "from sklearn.cluster import KMeans\n",
    "from sklearn.decomposition import PCA\n",
    "from sklearn.preprocessing import StandardScaler\n",
    "from matplotlib import pyplot as plt\n",
    "import numpy as np\n",
    "\n",
    "def getClusterIds(df):\n",
    "    # Normalize the data\n",
    "    scaler = StandardScaler()\n",
    "    X_normalized = scaler.fit_transform(df[[\"danceability\", \"energy\", \"loudness\", \"speechiness\", \"acousticness\", \"instrumentalness\", \"liveness\", \"valence\", \"tempo\"]])\n",
    "    \n",
    "\n",
    "    # Perform PCA\n",
    "    # pca = PCA(n_components=9)\n",
    "    # pca.fit(X_normalized)\n",
    "    # X_pca = pca.transform(X_normalized)\n",
    "\n",
    "    # Predict clusters using KMeans\n",
    "    kmeans = KMeans(n_clusters=1000, n_init=10) # TODO: Find optimal number of clusters using an elbow graph\n",
    "    kmeans.fit(X_normalized)\n",
    "    cluster_ids = kmeans.predict(X_normalized)\n",
    "    return cluster_ids, X_normalized, kmeans\n",
    "\n",
    "cluster_ids, X_normalized, kmeans = getClusterIds(df)"
   ]
  },
  {
   "cell_type": "code",
   "execution_count": 101,
   "metadata": {},
   "outputs": [],
   "source": [
    "import pickle\n",
    "\n",
    "with open(\"kmeans1000.pickle\", \"wb\") as f: #saves the model in dir and file name given\n",
    "    pickle.dump(kmeans,f)"
   ]
  },
  {
   "cell_type": "code",
   "execution_count": 92,
   "metadata": {},
   "outputs": [],
   "source": [
    "with open(\"kmeans1000.pickle\", \"rb\") as f: #don't forget the correct path\n",
    "     pickle.load(f) "
   ]
  },
  {
   "cell_type": "code",
   "execution_count": 85,
   "metadata": {},
   "outputs": [
    {
     "data": {
      "text/plain": [
       "cluster\n",
       "91      142\n",
       "1133    133\n",
       "323     123\n",
       "126     122\n",
       "237     118\n",
       "       ... \n",
       "1750      1\n",
       "878       1\n",
       "1659      1\n",
       "1595      1\n",
       "1450      1\n",
       "Name: count, Length: 2000, dtype: int64"
      ]
     },
     "execution_count": 85,
     "metadata": {},
     "output_type": "execute_result"
    }
   ],
   "source": [
    "df['cluster'] = cluster_ids\n",
    "df.cluster.value_counts()"
   ]
  },
  {
   "cell_type": "code",
   "execution_count": 44,
   "metadata": {},
   "outputs": [],
   "source": [
    "df['cluster_distance'] = kmeans.transform(X_pca).min(axis=1)"
   ]
  },
  {
   "cell_type": "code",
   "execution_count": 58,
   "metadata": {},
   "outputs": [
    {
     "data": {
      "text/html": [
       "<div>\n",
       "<style scoped>\n",
       "    .dataframe tbody tr th:only-of-type {\n",
       "        vertical-align: middle;\n",
       "    }\n",
       "\n",
       "    .dataframe tbody tr th {\n",
       "        vertical-align: top;\n",
       "    }\n",
       "\n",
       "    .dataframe thead th {\n",
       "        text-align: right;\n",
       "    }\n",
       "</style>\n",
       "<table border=\"1\" class=\"dataframe\">\n",
       "  <thead>\n",
       "    <tr style=\"text-align: right;\">\n",
       "      <th></th>\n",
       "      <th>danceability</th>\n",
       "      <th>energy</th>\n",
       "      <th>key</th>\n",
       "      <th>loudness</th>\n",
       "      <th>mode</th>\n",
       "      <th>speechiness</th>\n",
       "      <th>acousticness</th>\n",
       "      <th>instrumentalness</th>\n",
       "      <th>liveness</th>\n",
       "      <th>valence</th>\n",
       "      <th>tempo</th>\n",
       "      <th>type</th>\n",
       "      <th>id</th>\n",
       "      <th>uri</th>\n",
       "      <th>track_href</th>\n",
       "      <th>analysis_url</th>\n",
       "      <th>duration_ms</th>\n",
       "      <th>time_signature</th>\n",
       "      <th>cluster</th>\n",
       "      <th>cluster_distance</th>\n",
       "    </tr>\n",
       "  </thead>\n",
       "  <tbody>\n",
       "    <tr>\n",
       "      <th>16331</th>\n",
       "      <td>0.334</td>\n",
       "      <td>0.423</td>\n",
       "      <td>1</td>\n",
       "      <td>-13.562</td>\n",
       "      <td>1</td>\n",
       "      <td>0.0348</td>\n",
       "      <td>0.0173</td>\n",
       "      <td>0.994</td>\n",
       "      <td>0.0732</td>\n",
       "      <td>0.0859</td>\n",
       "      <td>100.058</td>\n",
       "      <td>audio_features</td>\n",
       "      <td>2aUDpZRSit5Zg2R6L5r6dW</td>\n",
       "      <td>spotify:track:2aUDpZRSit5Zg2R6L5r6dW</td>\n",
       "      <td>https://api.spotify.com/v1/tracks/2aUDpZRSit5Z...</td>\n",
       "      <td>https://api.spotify.com/v1/audio-analysis/2aUD...</td>\n",
       "      <td>93227</td>\n",
       "      <td>4</td>\n",
       "      <td>270</td>\n",
       "      <td>2.685626</td>\n",
       "    </tr>\n",
       "    <tr>\n",
       "      <th>49778</th>\n",
       "      <td>0.764</td>\n",
       "      <td>0.975</td>\n",
       "      <td>0</td>\n",
       "      <td>-5.680</td>\n",
       "      <td>1</td>\n",
       "      <td>0.1760</td>\n",
       "      <td>0.0520</td>\n",
       "      <td>0.512</td>\n",
       "      <td>0.2540</td>\n",
       "      <td>0.1110</td>\n",
       "      <td>150.017</td>\n",
       "      <td>audio_features</td>\n",
       "      <td>3tXcaUTyYJm5nBpLYp7Tmb</td>\n",
       "      <td>spotify:track:3tXcaUTyYJm5nBpLYp7Tmb</td>\n",
       "      <td>https://api.spotify.com/v1/tracks/3tXcaUTyYJm5...</td>\n",
       "      <td>https://api.spotify.com/v1/audio-analysis/3tXc...</td>\n",
       "      <td>363200</td>\n",
       "      <td>4</td>\n",
       "      <td>450</td>\n",
       "      <td>2.630694</td>\n",
       "    </tr>\n",
       "    <tr>\n",
       "      <th>74477</th>\n",
       "      <td>0.327</td>\n",
       "      <td>0.345</td>\n",
       "      <td>6</td>\n",
       "      <td>-13.282</td>\n",
       "      <td>0</td>\n",
       "      <td>0.0310</td>\n",
       "      <td>0.0125</td>\n",
       "      <td>0.833</td>\n",
       "      <td>0.1500</td>\n",
       "      <td>0.0364</td>\n",
       "      <td>200.096</td>\n",
       "      <td>audio_features</td>\n",
       "      <td>4cvzNj4FmjNtkY0tSTwufs</td>\n",
       "      <td>spotify:track:4cvzNj4FmjNtkY0tSTwufs</td>\n",
       "      <td>https://api.spotify.com/v1/tracks/4cvzNj4FmjNt...</td>\n",
       "      <td>https://api.spotify.com/v1/audio-analysis/4cvz...</td>\n",
       "      <td>175256</td>\n",
       "      <td>4</td>\n",
       "      <td>456</td>\n",
       "      <td>3.518514</td>\n",
       "    </tr>\n",
       "  </tbody>\n",
       "</table>\n",
       "</div>"
      ],
      "text/plain": [
       "       danceability  energy  key  loudness  mode  speechiness  acousticness   \n",
       "16331         0.334   0.423    1   -13.562     1       0.0348        0.0173  \\\n",
       "49778         0.764   0.975    0    -5.680     1       0.1760        0.0520   \n",
       "74477         0.327   0.345    6   -13.282     0       0.0310        0.0125   \n",
       "\n",
       "       instrumentalness  liveness  valence    tempo            type   \n",
       "16331             0.994    0.0732   0.0859  100.058  audio_features  \\\n",
       "49778             0.512    0.2540   0.1110  150.017  audio_features   \n",
       "74477             0.833    0.1500   0.0364  200.096  audio_features   \n",
       "\n",
       "                           id                                   uri   \n",
       "16331  2aUDpZRSit5Zg2R6L5r6dW  spotify:track:2aUDpZRSit5Zg2R6L5r6dW  \\\n",
       "49778  3tXcaUTyYJm5nBpLYp7Tmb  spotify:track:3tXcaUTyYJm5nBpLYp7Tmb   \n",
       "74477  4cvzNj4FmjNtkY0tSTwufs  spotify:track:4cvzNj4FmjNtkY0tSTwufs   \n",
       "\n",
       "                                              track_href   \n",
       "16331  https://api.spotify.com/v1/tracks/2aUDpZRSit5Z...  \\\n",
       "49778  https://api.spotify.com/v1/tracks/3tXcaUTyYJm5...   \n",
       "74477  https://api.spotify.com/v1/tracks/4cvzNj4FmjNt...   \n",
       "\n",
       "                                            analysis_url  duration_ms   \n",
       "16331  https://api.spotify.com/v1/audio-analysis/2aUD...        93227  \\\n",
       "49778  https://api.spotify.com/v1/audio-analysis/3tXc...       363200   \n",
       "74477  https://api.spotify.com/v1/audio-analysis/4cvz...       175256   \n",
       "\n",
       "       time_signature  cluster  cluster_distance  \n",
       "16331               4      270          2.685626  \n",
       "49778               4      450          2.630694  \n",
       "74477               4      456          3.518514  "
      ]
     },
     "execution_count": 58,
     "metadata": {},
     "output_type": "execute_result"
    }
   ],
   "source": [
    "df[df.id.isin(['4cvzNj4FmjNtkY0tSTwufs', '2aUDpZRSit5Zg2R6L5r6dW', '3tXcaUTyYJm5nBpLYp7Tmb'])]"
   ]
  },
  {
   "cell_type": "code",
   "execution_count": 69,
   "metadata": {},
   "outputs": [],
   "source": [
    "df.to_csv('features_clustered2.csv')"
   ]
  },
  {
   "cell_type": "code",
   "execution_count": 84,
   "metadata": {},
   "outputs": [
    {
     "data": {
      "text/html": [
       "<div>\n",
       "<style scoped>\n",
       "    .dataframe tbody tr th:only-of-type {\n",
       "        vertical-align: middle;\n",
       "    }\n",
       "\n",
       "    .dataframe tbody tr th {\n",
       "        vertical-align: top;\n",
       "    }\n",
       "\n",
       "    .dataframe thead th {\n",
       "        text-align: right;\n",
       "    }\n",
       "</style>\n",
       "<table border=\"1\" class=\"dataframe\">\n",
       "  <thead>\n",
       "    <tr style=\"text-align: right;\">\n",
       "      <th></th>\n",
       "      <th>danceability</th>\n",
       "      <th>energy</th>\n",
       "      <th>key</th>\n",
       "      <th>loudness</th>\n",
       "      <th>mode</th>\n",
       "      <th>speechiness</th>\n",
       "      <th>acousticness</th>\n",
       "      <th>instrumentalness</th>\n",
       "      <th>liveness</th>\n",
       "      <th>valence</th>\n",
       "      <th>tempo</th>\n",
       "      <th>type</th>\n",
       "      <th>id</th>\n",
       "      <th>uri</th>\n",
       "      <th>track_href</th>\n",
       "      <th>analysis_url</th>\n",
       "      <th>duration_ms</th>\n",
       "      <th>time_signature</th>\n",
       "      <th>cluster</th>\n",
       "      <th>cluster_distance</th>\n",
       "    </tr>\n",
       "  </thead>\n",
       "  <tbody>\n",
       "  </tbody>\n",
       "</table>\n",
       "</div>"
      ],
      "text/plain": [
       "Empty DataFrame\n",
       "Columns: [danceability, energy, key, loudness, mode, speechiness, acousticness, instrumentalness, liveness, valence, tempo, type, id, uri, track_href, analysis_url, duration_ms, time_signature, cluster, cluster_distance]\n",
       "Index: []"
      ]
     },
     "execution_count": 84,
     "metadata": {},
     "output_type": "execute_result"
    }
   ],
   "source": [
    "df[df['id']== '2dHHgzDwk4BJdRwy9uXhTO']"
   ]
  },
  {
   "cell_type": "code",
   "execution_count": null,
   "metadata": {},
   "outputs": [],
   "source": [
    "K = range(5, 40) #range of the clusters\n",
    "inertia = []\n",
    "\n",
    " # Normalize the data\n",
    "scaler = StandardScaler()\n",
    "X_normalized = scaler.fit_transform(df[[\"danceability\", \"energy\", \"loudness\", \"speechiness\", \"acousticness\", \"instrumentalness\", \"liveness\", \"valence\", \"tempo\"]])\n",
    " # df_normalized = pd.DataFrame(X_normalized, columns=[\"danceability\", \"energy\",  \"loudness\", \"speechiness\", \"acousticness\", \"instrumentalness\", \"liveness\", \"valence\", \"tempo\"])\n",
    "\n",
    "\n",
    "\n",
    "for k in K: #for every data in set build a inertia\n",
    "    print(\"Training a K-Means model with {} clusters! \".format(k))\n",
    "    print()\n",
    "    kmeans1 = KMeans(n_clusters=k,\n",
    "                    random_state=1234)\n",
    "    kmeans1.fit(X_normalized)\n",
    "    inertia.append(kmeans1.inertia_)\n",
    "\n",
    "import numpy as np\n",
    "import matplotlib.pyplot as plt\n",
    "%matplotlib inline\n",
    "\n",
    "plt.figure(figsize=(16,8))\n",
    "plt.plot(K, inertia, 'bx-')\n",
    "plt.xlabel('k')\n",
    "plt.ylabel('inertia')\n",
    "plt.xticks(np.arange(min(K), max(K)+1, 1.0)) #changing the scale\n",
    "plt.title('Elbow Method showing the optimal k') "
   ]
  }
 ],
 "metadata": {
  "kernelspec": {
   "display_name": "Python 3",
   "language": "python",
   "name": "python3"
  },
  "language_info": {
   "codemirror_mode": {
    "name": "ipython",
    "version": 3
   },
   "file_extension": ".py",
   "mimetype": "text/x-python",
   "name": "python",
   "nbconvert_exporter": "python",
   "pygments_lexer": "ipython3",
   "version": "3.9.6"
  },
  "orig_nbformat": 4
 },
 "nbformat": 4,
 "nbformat_minor": 2
}
