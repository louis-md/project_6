{
 "cells": [
  {
   "cell_type": "code",
   "execution_count": null,
   "metadata": {},
   "outputs": [],
   "source": [
    "import spotipy\n",
    "from spotipy.oauth2 import SpotifyClientCredentials\n",
    "import os\n",
    "from dotenv import load_dotenv\n",
    "import pandas as pd\n",
    "from joblib import Parallel, delayed\n",
    "\n",
    "load_dotenv(\"./.env\")\n",
    "\n",
    "client_id = os.environ.get(\"SPOTIFY_CLIENT_ID\")\n",
    "client_secret = os.environ.get(\"SPOTIFY_CLIENT_SECRET\")\n",
    "\n",
    "sp = spotipy.Spotify(auth_manager=SpotifyClientCredentials(client_id, client_secret), requests_timeout=45)\n",
    "# genres = sp.recommendation_genre_seeds() # only gets most popular genres\n",
    "genres = pd.read_csv(\"genres.csv\").values.tolist()\n",
    "genres = [genre[0] for genre in genres]"
   ]
  },
  {
   "cell_type": "code",
   "execution_count": null,
   "metadata": {},
   "outputs": [],
   "source": [
    "def getRecommendation(genre, i):\n",
    "    try:\n",
    "        return sp.search(q=f'genre: {genre}', type=\"track\", limit=50, offset=i*50)\n",
    "    except: None\n",
    "\n",
    "def getRecommendationByGenre(genre):\n",
    "        _tracks = Parallel(\n",
    "            n_jobs=50\n",
    "        )(\n",
    "            delayed(getRecommendation)(genre, i) for i in range(0, 10)\n",
    "        )\n",
    "        return _tracks      \n",
    "\n",
    "\n",
    "tracks = Parallel(\n",
    "    n_jobs=50\n",
    ")(\n",
    "    delayed(getRecommendationByGenre)(genre) for genre in genres\n",
    ")\n"
   ]
  },
  {
   "cell_type": "code",
   "execution_count": 63,
   "metadata": {},
   "outputs": [],
   "source": [
    "def isNone(x):\n",
    "    if x is not None:\n",
    "        return x\n",
    "\n",
    "cleaned = list(map(isNone, tracks))\n",
    "flattened = [b for b in cleaned for b in b]"
   ]
  },
  {
   "cell_type": "code",
   "execution_count": 65,
   "metadata": {},
   "outputs": [
    {
     "data": {
      "text/plain": [
       "60104"
      ]
     },
     "execution_count": 65,
     "metadata": {},
     "output_type": "execute_result"
    }
   ],
   "source": [
    "tracks_objects = list(map(lambda x: x[\"tracks\"][\"items\"] if x is not None else dict({ \"id\": \"\" }), flattened))\n",
    "flattened2 = [b for b in tracks_objects for b in b]\n",
    "ids = list(map(lambda y: y[\"id\"] if type(y) is dict else '', flattened2))\n",
    "len(ids)"
   ]
  },
  {
   "cell_type": "code",
   "execution_count": 68,
   "metadata": {},
   "outputs": [
    {
     "data": {
      "text/plain": [
       "122278"
      ]
     },
     "execution_count": 68,
     "metadata": {},
     "output_type": "execute_result"
    }
   ],
   "source": [
    "deduped = list(set(ids))\n",
    "df = pd.DataFrame(deduped).drop_duplicates()\n",
    "df2 = pd.read_csv(\"./tracks2.csv\").drop_duplicates()\n",
    "df3 = pd.read_csv(\"./tracks3.csv\").drop_duplicates()\n",
    "df4 = pd.read_csv(\"./tracks4.csv\").drop_duplicates()\n",
    "df5 = pd.concat([df, df2[\"0\"], df3[\"0\"], df4[\"0\"]], axis=0, ignore_index=True).drop_duplicates()\n",
    "len(df5)"
   ]
  }
 ],
 "metadata": {
  "kernelspec": {
   "display_name": "Python 3",
   "language": "python",
   "name": "python3"
  },
  "language_info": {
   "codemirror_mode": {
    "name": "ipython",
    "version": 3
   },
   "file_extension": ".py",
   "mimetype": "text/x-python",
   "name": "python",
   "nbconvert_exporter": "python",
   "pygments_lexer": "ipython3",
   "version": "3.9.6"
  },
  "orig_nbformat": 4
 },
 "nbformat": 4,
 "nbformat_minor": 2
}
